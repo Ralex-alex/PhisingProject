{
 "cells": [
  {
   "cell_type": "code",
   "execution_count": 2,
   "id": "f54a1759-f234-4623-bca2-c99041d1ea2c",
   "metadata": {},
   "outputs": [
    {
     "name": "stdout",
     "output_type": "stream",
     "text": [
      "Baseline Model Results:\n",
      "              precision    recall  f1-score   support\n",
      "\n",
      "  legitimate       1.00      1.00      1.00         3\n",
      "    phishing       1.00      1.00      1.00         4\n",
      "\n",
      "    accuracy                           1.00         7\n",
      "   macro avg       1.00      1.00      1.00         7\n",
      "weighted avg       1.00      1.00      1.00         7\n",
      "\n"
     ]
    }
   ],
   "source": [
    "import pandas as pd\n",
    "from sklearn.feature_extraction.text import CountVectorizer\n",
    "from sklearn.naive_bayes import MultinomialNB\n",
    "from sklearn.model_selection import train_test_split\n",
    "from sklearn.metrics import classification_report\n",
    "\n",
    "# Load the data\n",
    "data = pd.read_csv(\"emails.csv\")\n",
    "\n",
    "# Split into features and labels\n",
    "texts = data['text']\n",
    "labels = data['label']\n",
    "\n",
    "# Convert text into a matrix of token counts (simple approach)\n",
    "vectorizer = CountVectorizer()\n",
    "X = vectorizer.fit_transform(texts)\n",
    "\n",
    "# Split into train and test sets\n",
    "X_train, X_test, y_train, y_test = train_test_split(X, labels, test_size=0.5, random_state=42)\n",
    "\n",
    "# Create and train the model\n",
    "model = MultinomialNB()\n",
    "model.fit(X_train, y_train)\n",
    "\n",
    "# Evaluate\n",
    "predictions = model.predict(X_test)\n",
    "print(\"Baseline Model Results:\")\n",
    "print(classification_report(y_test, predictions))"
   ]
  },
  {
   "cell_type": "code",
   "execution_count": 3,
   "id": "71e8598e-9c55-4bcb-952c-cbe7dfbfd17a",
   "metadata": {},
   "outputs": [
    {
     "name": "stdout",
     "output_type": "stream",
     "text": [
      "Baseline Model Results:\n",
      "              precision    recall  f1-score   support\n",
      "\n",
      "  legitimate       0.98      0.99      0.99      2223\n",
      "    phishing       0.99      0.96      0.97      1179\n",
      "\n",
      "    accuracy                           0.98      3402\n",
      "   macro avg       0.98      0.98      0.98      3402\n",
      "weighted avg       0.98      0.98      0.98      3402\n",
      "\n"
     ]
    }
   ],
   "source": [
    "import pandas as pd\n",
    "from sklearn.feature_extraction.text import CountVectorizer\n",
    "from sklearn.naive_bayes import MultinomialNB\n",
    "from sklearn.model_selection import train_test_split\n",
    "from sklearn.metrics import classification_report\n",
    "\n",
    "# Load the data\n",
    "data = pd.read_csv(\"emails_from_spamassassin.csv\")\n",
    "\n",
    "# Split into features and labels\n",
    "texts = data['text']\n",
    "labels = data['label']\n",
    "\n",
    "# Convert text into a matrix of token counts (simple approach)\n",
    "vectorizer = CountVectorizer()\n",
    "X = vectorizer.fit_transform(texts)\n",
    "\n",
    "# Split into train and test sets\n",
    "X_train, X_test, y_train, y_test = train_test_split(X, labels, test_size=0.5, random_state=42)\n",
    "\n",
    "# Create and train the model\n",
    "model = MultinomialNB()\n",
    "model.fit(X_train, y_train)\n",
    "\n",
    "# Evaluate\n",
    "predictions = model.predict(X_test)\n",
    "print(\"Baseline Model Results:\")\n",
    "print(classification_report(y_test, predictions))"
   ]
  },
  {
   "cell_type": "code",
   "execution_count": null,
   "id": "65a1dd85-e43b-4b98-a7af-4f151259842b",
   "metadata": {},
   "outputs": [],
   "source": []
  }
 ],
 "metadata": {
  "kernelspec": {
   "display_name": "Python 3 (ipykernel)",
   "language": "python",
   "name": "python3"
  },
  "language_info": {
   "codemirror_mode": {
    "name": "ipython",
    "version": 3
   },
   "file_extension": ".py",
   "mimetype": "text/x-python",
   "name": "python",
   "nbconvert_exporter": "python",
   "pygments_lexer": "ipython3",
   "version": "3.12.10"
  }
 },
 "nbformat": 4,
 "nbformat_minor": 5
}
